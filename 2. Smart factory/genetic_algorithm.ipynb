{
 "cells": [
  {
   "cell_type": "markdown",
   "id": "0",
   "metadata": {},
   "source": [
    "# Algoritmo Genetico in Python: Concetti e Implementazione\n",
    "\n",
    "Gli algoritmi genetici (GA) sono tecniche di ottimizzazione ispirate al processo di evoluzione biologica. Sono usati per trovare soluzioni approssimate a problemi complessi, dove metodi classici potrebbero non funzionare bene.\n",
    "\n",
    "Un GA opera su una popolazione di soluzioni candidate (chiamate **individui** o **cromosomi**), evolvendole attraverso iterazioni chiamate **generazioni**.\n",
    "\n",
    "Le operazioni principali sono:\n",
    "\n",
    "- **Fitness**: valutazione della bontà di ciascun individuo in base a una funzione obiettivo.\n",
    "- **Selezione**: scelta degli individui migliori o più adatti a riprodursi.\n",
    "- **Crossover** (ricombinazione): combinazione di due individui (genitori) per generare nuovi individui (figli), scambiando informazioni.\n",
    "- **Mutazione**: introduzione di piccole modifiche casuali negli individui per mantenere la diversità genetica e permettere l’esplorazione di nuove soluzioni.\n",
    "\n",
    "In questo notebook mostriamo un esempio semplice con:\n",
    "\n",
    "- **Soluzioni rappresentate da numeri reali** in un intervallo continuo;\n",
    "- **Funzione obiettivo** da massimizzare: \\(f(x) = x \\sin(10 \\pi x) + 1\\);\n",
    "- Visualizzazioni delle operazioni di fitness, crossover e mutazione per comprendere cosa accade \"dietro le quinte\".\n"
   ]
  },
  {
   "cell_type": "code",
   "execution_count": null,
   "id": "1",
   "metadata": {},
   "outputs": [],
   "source": [
    "import matplotlib.pyplot as plt\n",
    "import numpy as np\n",
    "\n",
    "\n",
    "def fitness_function(x):\n",
    "    return x * np.sin(10 * np.pi * x) + 1.0\n",
    "\n",
    "\n",
    "x_vals = np.linspace(-1, 2, 1000)\n",
    "y_vals = fitness_function(x_vals)"
   ]
  },
  {
   "cell_type": "code",
   "execution_count": null,
   "id": "2",
   "metadata": {},
   "outputs": [],
   "source": [
    "plt.plot(x_vals, y_vals)\n",
    "plt.title(\"Funzione obiettivo\")\n",
    "plt.xlabel(\"x\")\n",
    "plt.ylabel(\"f(x)\")\n",
    "plt.grid(True)\n",
    "plt.show()"
   ]
  },
  {
   "cell_type": "code",
   "execution_count": null,
   "id": "3",
   "metadata": {},
   "outputs": [],
   "source": [
    "population_size = 50\n",
    "generations = 100\n",
    "crossover_rate = 0.8\n",
    "mutation_rate = 0.1\n",
    "domain = (-1, 2)"
   ]
  },
  {
   "cell_type": "markdown",
   "id": "4",
   "metadata": {},
   "source": [
    "## Fitness: la misura della bontà di un individuo\n",
    "\n",
    "Nel contesto degli algoritmi genetici, la funzione di fitness valuta quanto una soluzione sia \"adatta\" o \"buona\" rispetto all'obiettivo da raggiungere.\n",
    "\n",
    "Nel nostro esempio, la fitness è direttamente data dalla funzione:\n",
    "\n",
    "\\[\n",
    "f(x) = x \\sin(10 \\pi x) + 1\n",
    "\\]\n",
    "\n",
    "per cui soluzioni con valori \\(x\\) che massimizzano questa funzione sono considerate migliori.\n",
    "\n",
    "La fitness permette di:\n",
    "\n",
    "- **Ordinare** la popolazione da cui selezionare i genitori;\n",
    "- **Guidare l’evoluzione** verso le zone di massimo della funzione.\n",
    "\n",
    "Nel grafico seguente vediamo come alcuni individui casuali si posizionano rispetto alla funzione obiettivo: i punti rossi indicano le soluzioni in termini di valore \\(x\\) e il loro fitness corrispondente.\n"
   ]
  },
  {
   "cell_type": "code",
   "execution_count": null,
   "id": "5",
   "metadata": {},
   "outputs": [],
   "source": [
    "population = np.random.uniform(domain[0], domain[1], 20)\n",
    "fitness = fitness_function(population)\n",
    "\n",
    "plt.figure(figsize=(8, 4))\n",
    "plt.plot(x_vals, y_vals, label=\"Funzione obiettivo\")\n",
    "plt.scatter(population, fitness, color=\"red\", label=\"Individui (x, f(x))\")\n",
    "plt.title(\"Valutazione della fitness su popolazione casuale\")\n",
    "plt.xlabel(\"x\")\n",
    "plt.ylabel(\"f(x)\")\n",
    "plt.legend()\n",
    "plt.grid(True)\n",
    "plt.show()"
   ]
  },
  {
   "cell_type": "markdown",
   "id": "6",
   "metadata": {},
   "source": [
    "## Crossover: la riproduzione e la combinazione genetica\n",
    "\n",
    "Il crossover è l’operazione che prende due genitori e produce uno o più figli combinando le loro caratteristiche.\n",
    "\n",
    "È l’elemento che permette di **mescolare informazioni utili** e creare soluzioni potenzialmente migliori.\n",
    "\n",
    "Nel nostro esempio con rappresentazione reale, usiamo una forma semplice di crossover chiamata **media aritmetica**:\n",
    "\n",
    "\\[\n",
    "\\text{figlio} = \\frac{\\text{genitore}_1 + \\text{genitore}_2}{2}\n",
    "\\]\n",
    "\n",
    "In questo modo, il figlio si posiziona nel punto medio tra i due genitori nel dominio delle soluzioni.\n",
    "\n",
    "Il grafico mostra i due genitori (punti blu) e il figlio (punto arancione), posizionati sulla curva della funzione obiettivo, per vedere visivamente l’effetto del crossover sulla soluzione.\n"
   ]
  },
  {
   "cell_type": "code",
   "execution_count": null,
   "id": "7",
   "metadata": {},
   "outputs": [],
   "source": [
    "parent1, parent2 = 0.3, 1.2\n",
    "child = 0.5 * (parent1 + parent2)\n",
    "\n",
    "x_vals_example = [parent1, parent2, child]\n",
    "y_vals_example = fitness_function(np.array(x_vals_example))\n",
    "\n",
    "plt.figure(figsize=(8, 4))\n",
    "plt.plot(x_vals, y_vals, label=\"Funzione obiettivo\")\n",
    "plt.scatter(\n",
    "    [parent1, parent2],\n",
    "    fitness_function(np.array([parent1, parent2])),\n",
    "    color=\"blue\",\n",
    "    label=\"Genitori\",\n",
    ")\n",
    "plt.scatter(child, fitness_function(child), color=\"orange\", label=\"Figlio (crossover)\")\n",
    "plt.title(\"Esempio di crossover\")\n",
    "plt.xlabel(\"x\")\n",
    "plt.ylabel(\"f(x)\")\n",
    "plt.legend()\n",
    "plt.grid(True)\n",
    "plt.show()"
   ]
  },
  {
   "cell_type": "markdown",
   "id": "8",
   "metadata": {},
   "source": [
    "## Mutazione: l’esplorazione casuale\n",
    "\n",
    "La mutazione introduce variazioni casuali nei singoli individui per evitare che la popolazione converga prematuramente a soluzioni subottimali (locali).\n",
    "\n",
    "Nel nostro esempio, la mutazione si traduce in una piccola perturbazione gaussiana:\n",
    "\n",
    "\\[\n",
    "x' = x + \\mathcal{N}(0, \\sigma^2)\n",
    "\\]\n",
    "\n",
    "dove \\( \\mathcal{N}(0, \\sigma^2) \\) è una variabile casuale normale con media zero e deviazione standard \\(\\sigma\\).\n",
    "\n",
    "Questo permette di esplorare intorno all’attuale soluzione.\n",
    "\n",
    "Nel grafico vediamo un individuo originale (punto verde) e la sua versione mutata (punto rosso), posizionati sulla funzione obiettivo.\n"
   ]
  },
  {
   "cell_type": "code",
   "execution_count": null,
   "id": "9",
   "metadata": {},
   "outputs": [],
   "source": [
    "np.random.seed(42)\n",
    "x_original = 0.7\n",
    "x_mutated = x_original + np.random.normal(0, 0.1)\n",
    "x_mutated = np.clip(x_mutated, domain[0], domain[1])\n",
    "\n",
    "plt.figure(figsize=(8, 4))\n",
    "plt.plot(x_vals, y_vals, label=\"Funzione obiettivo\")\n",
    "plt.scatter(x_original, fitness_function(x_original), color=\"green\", label=\"Originale\")\n",
    "plt.scatter(x_mutated, fitness_function(x_mutated), color=\"red\", label=\"Mutato\")\n",
    "plt.title(\"Esempio di mutazione\")\n",
    "plt.xlabel(\"x\")\n",
    "plt.ylabel(\"f(x)\")\n",
    "plt.legend()\n",
    "plt.grid(True)\n",
    "plt.show()"
   ]
  },
  {
   "cell_type": "markdown",
   "id": "10",
   "metadata": {},
   "source": [
    "## Esecuzione dell’algoritmo genetico\n",
    "\n",
    "Ora mettiamo insieme tutte le componenti:\n",
    "\n",
    "- **Inizializziamo** una popolazione casuale di soluzioni.\n",
    "- Per ogni generazione:\n",
    "  - **Valutiamo** la fitness di ogni individuo.\n",
    "  - **Selezioniamo** i genitori tramite un meccanismo come la selezione a torneo.\n",
    "  - Applichiamo **crossover** e **mutazione** per generare una nuova popolazione.\n",
    "  - Monitoriamo i valori di fitness migliori, medi e peggiori.\n",
    "\n",
    "La popolazione evolve in modo da aumentare progressivamente la qualità delle soluzioni.\n",
    "\n",
    "Visualizziamo la popolazione e la funzione obiettivo ad intervalli regolari per osservare l’evoluzione.\n"
   ]
  },
  {
   "cell_type": "code",
   "execution_count": null,
   "id": "11",
   "metadata": {},
   "outputs": [],
   "source": [
    "def initialize_population():\n",
    "    return np.random.uniform(domain[0], domain[1], population_size)\n",
    "\n",
    "\n",
    "def tournament_selection(pop, fitness, k=3):\n",
    "    selected = np.random.choice(pop, k)\n",
    "    selected_fitness = fitness_function(selected)\n",
    "    return selected[np.argmax(selected_fitness)]\n",
    "\n",
    "\n",
    "def crossover(parent1, parent2):\n",
    "    if np.random.rand() < crossover_rate:\n",
    "        return 0.5 * (parent1 + parent2)\n",
    "    return parent1\n",
    "\n",
    "\n",
    "def mutate(x):\n",
    "    if np.random.rand() < mutation_rate:\n",
    "        x += np.random.normal(0, 0.1)\n",
    "        x = np.clip(x, domain[0], domain[1])\n",
    "    return x"
   ]
  },
  {
   "cell_type": "code",
   "execution_count": null,
   "id": "12",
   "metadata": {},
   "outputs": [],
   "source": [
    "population = initialize_population()\n",
    "best_fitness_per_gen = []\n",
    "avg_fitness_per_gen = []\n",
    "min_fitness_per_gen = []\n",
    "\n",
    "for gen in range(generations):\n",
    "    fitness = fitness_function(population)\n",
    "    next_population = []\n",
    "\n",
    "    for _ in range(population_size):\n",
    "        parent1 = tournament_selection(population, fitness)\n",
    "        parent2 = tournament_selection(population, fitness)\n",
    "        child = crossover(parent1, parent2)\n",
    "        child = mutate(child)\n",
    "        next_population.append(child)\n",
    "\n",
    "    population = np.array(next_population)\n",
    "    f_vals = fitness_function(population)\n",
    "    best_fitness_per_gen.append(np.max(f_vals))\n",
    "    avg_fitness_per_gen.append(np.mean(f_vals))\n",
    "    min_fitness_per_gen.append(np.min(f_vals))\n",
    "\n",
    "    if gen % 20 == 0 or gen == generations - 1:\n",
    "        plt.figure(figsize=(8, 4))\n",
    "        plt.plot(x_vals, y_vals, label=\"Funzione obiettivo\")\n",
    "        plt.scatter(\n",
    "            population, fitness_function(population), color=\"red\", label=\"Popolazione\"\n",
    "        )\n",
    "        plt.title(f\"Generazione {gen}\")\n",
    "        plt.xlabel(\"x\")\n",
    "        plt.ylabel(\"f(x)\")\n",
    "        plt.legend()\n",
    "        plt.grid(True)\n",
    "        plt.show()"
   ]
  },
  {
   "cell_type": "code",
   "execution_count": null,
   "id": "13",
   "metadata": {},
   "outputs": [],
   "source": [
    "best_individual = population[np.argmax(fitness_function(population))]\n",
    "best_value = fitness_function(best_individual)\n",
    "\n",
    "print(f\"Miglior individuo: x = {best_individual:.5f}\")\n",
    "print(f\"Valore massimo f(x): {best_value:.5f}\")"
   ]
  },
  {
   "cell_type": "code",
   "execution_count": null,
   "id": "14",
   "metadata": {},
   "outputs": [],
   "source": [
    "plt.plot(best_fitness_per_gen, label=\"Best\")\n",
    "plt.plot(avg_fitness_per_gen, label=\"Average\")\n",
    "plt.plot(min_fitness_per_gen, label=\"Worst\")\n",
    "plt.title(\"Fitness per generazione\")\n",
    "plt.xlabel(\"Generazione\")\n",
    "plt.ylabel(\"Fitness\")\n",
    "plt.legend()\n",
    "plt.grid(True)\n",
    "plt.show()"
   ]
  },
  {
   "cell_type": "markdown",
   "id": "15",
   "metadata": {},
   "source": [
    "## Risultati finali\n",
    "\n",
    "Dopo il numero di generazioni prestabilito, selezioniamo il miglior individuo come soluzione finale.\n",
    "\n",
    "Nel nostro esempio, il valore di \\(x\\) corrispondente al massimo trovato e il suo valore di fitness sono mostrati.\n",
    "\n",
    "Notiamo che la popolazione si concentra sulle zone di massimo della funzione obiettivo.\n",
    "\n",
    "La convergenza è visibile anche dal grafico che mostra l’andamento della fitness (migliore, media e peggiore) nel tempo.\n"
   ]
  }
 ],
 "metadata": {
  "kernelspec": {
   "display_name": ".venv",
   "language": "python",
   "name": "python3"
  },
  "language_info": {
   "codemirror_mode": {
    "name": "ipython",
    "version": 3
   },
   "file_extension": ".py",
   "mimetype": "text/x-python",
   "name": "python",
   "nbconvert_exporter": "python",
   "pygments_lexer": "ipython3",
   "version": "3.12.0"
  }
 },
 "nbformat": 4,
 "nbformat_minor": 5
}
