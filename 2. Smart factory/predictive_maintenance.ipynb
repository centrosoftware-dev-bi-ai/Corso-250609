{
 "cells": [
  {
   "cell_type": "markdown",
   "id": "0",
   "metadata": {},
   "source": [
    "# Manutenzione Predittiva: Stima della Remaining Useful Life (RUL)\n",
    "\n",
    "Questo notebook esplora metodi per stimare la Remaining Useful Life (RUL) di componenti o macchinari a partire da dati di degradazione temporali.\n",
    "\n",
    "L’obiettivo è fornire una stima utile per pianificare interventi di manutenzione predittiva, riducendo fermi non programmati e ottimizzando i costi operativi.\n",
    "\n",
    "Il notebook si articola in due fasi principali:\n",
    "\n",
    "1. **Stima statistica preliminare** basata su parametri tipici da datasheet o modelli parametrici (es. Weibull), utilizzabile quando non è ancora disponibile un archivio di dati storici.\n",
    "2. **Stima basata su similarità temporale** utilizzando tecniche di Dynamic Time Warping (DTW) per confrontare curve di degrado multivariate, applicabile una volta acquisito un archivio di curve.\n",
    "\n",
    "Verrà mostrato un esempio completo di simulazione di dati, visualizzazione, e valutazione della RUL con entrambi gli approcci."
   ]
  },
  {
   "cell_type": "markdown",
   "id": "1",
   "metadata": {},
   "source": [
    "## Stima RUL senza archivio storico: approccio statistico e basato su datasheet\n",
    "\n",
    "Quando l'archivio di curve storiche non è ancora disponibile (ad esempio nelle prime fasi di monitoraggio di una macchina o di un componente), non è possibile applicare direttamente metodi di similitudine temporale come il DTW.\n",
    "\n",
    "In questa fase iniziale, possiamo sfruttare:\n",
    "\n",
    "- Parametri statistici derivati dai datasheet delle macchine (es. vita utile media, deviazione standard della durata),\n",
    "- Modelli probabilistici semplici (es. distribuzioni di Weibull, esponenziale) che descrivono la durata attesa del componente,\n",
    "- Indicatori di degrado basati su soglie di segnali fisici o di processo.\n",
    "\n",
    "Questo approccio fornisce una stima grossolana della Remaining Useful Life (RUL), che può essere raffinata in seguito quando l’archivio dati sarà sufficientemente popolato.\n",
    "\n",
    "In questo notebook, mostreremo un esempio semplice di stima statistica basata su una distribuzione parametrica tipica (Weibull), usando parametri ipotetici ricavati da datasheet."
   ]
  },
  {
   "cell_type": "markdown",
   "id": "2",
   "metadata": {},
   "source": [
    "### Stima della RUL con distribuzione di Weibull\n",
    "\n",
    "La distribuzione di Weibull è un modello statistico ampiamente utilizzato per rappresentare i tempi di guasto o vita utile di componenti industriali. \n",
    "\n",
    "Si caratterizza principalmente per il **parametro di forma** (shape), che descrive il comportamento del guasto nel tempo:\n",
    "- se è < 1, il tasso di guasto diminuisce (guasti precoci);\n",
    "- se è = 1, il guasto avviene con tasso costante (guasti casuali);\n",
    "- se è > 1, il tasso di guasto aumenta nel tempo (usura).\n",
    "\n",
    "Il **parametro di scala** (scale) definisce la durata tipica del componente.\n",
    "\n",
    "Con la Weibull possiamo stimare la probabilità che un componente sopravviva fino a un certo tempo e quindi calcolare la **Remaining Useful Life (RUL)** come tempo residuo medio di vita, condizionata al fatto che il componente ha già funzionato per un certo intervallo.\n",
    "\n",
    "Questo approccio è particolarmente utile quando non si dispone ancora di dati storici reali, ma si hanno informazioni statistiche o datasheet del produttore.\n"
   ]
  },
  {
   "cell_type": "code",
   "execution_count": null,
   "id": "3",
   "metadata": {},
   "outputs": [],
   "source": [
    "from scipy.stats import weibull_min\n",
    "\n",
    "def estimate_rul_statistical(current_time, shape=1.5, scale=1000):\n",
    "    \"\"\"\n",
    "    Stima RUL basata su distribuzione di Weibull.\n",
    "    shape: parametro di forma (beta)\n",
    "    scale: parametro di scala (eta), ovvero vita media attesa\n",
    "    current_time: tempo attuale di funzionamento\n",
    "    \n",
    "    Restituisce la vita residua media stimata a partire da current_time.\n",
    "    \"\"\"\n",
    "    if current_time >= scale:\n",
    "        return 0\n",
    "    \n",
    "    survival_prob = weibull_min.sf(current_time, c=shape, scale=scale)\n",
    "    expected_life_total = weibull_min.mean(c=shape, scale=scale)\n",
    "    \n",
    "    expected_remaining_life = expected_life_total * survival_prob\n",
    "    return max(0, expected_remaining_life - current_time)\n",
    "\n",
    "# Esempio uso con current_time scelto\n",
    "current_time_example = 150\n",
    "estimated_rul_stat = estimate_rul_statistical(current_time_example)\n",
    "\n",
    "print(f\"Tempo attuale di funzionamento: {current_time_example}\")\n",
    "print(f\"RUL stimata (approccio statistico): {estimated_rul_stat:.2f} unità di tempo\")"
   ]
  },
  {
   "cell_type": "markdown",
   "id": "4",
   "metadata": {},
   "source": [
    "### Utilizzo della stima statistica\n",
    "\n",
    "Questa stima fornisce una baseline RUL nelle fasi iniziali senza dati storici. Quando si inizieranno a raccogliere dati reali di funzionamento (curve di degradazione), sarà possibile passare a metodi più sofisticati basati su similarità dinamica.\n",
    "\n",
    "La combinazione di queste due fasi consente una strategia di manutenzione predittiva che parte da ipotesi generali e si adatta progressivamente all’esperienza reale del macchinario."
   ]
  },
  {
   "cell_type": "markdown",
   "id": "5",
   "metadata": {},
   "source": [
    "## Stima della RUL basata su similarità temporale (DTW)\n",
    "\n",
    "Una volta disponibile un archivio di curve storiche di degrado, è possibile stimare la RUL del componente corrente confrontandone la traiettoria di degradazione parziale con quelle archiviate.\n",
    "\n",
    "Questo approccio si basa sul Dynamic Time Warping (DTW), una tecnica per misurare la somiglianza tra sequenze temporali anche se di lunghezza diversa o con andamento non lineare.\n",
    "\n",
    "Nel notebook implementiamo un algoritmo che, data una curva parziale corrente, individua la curva più simile nell'archivio e usa la differenza di lunghezza per stimare la RUL residua.\n",
    "\n",
    "Questo metodo è particolarmente utile per sistemi multivariati dove più feature sono monitorate contemporaneamente."
   ]
  },
  {
   "cell_type": "markdown",
   "id": "6",
   "metadata": {},
   "source": [
    "### Simulazione e visualizzazione delle curve di degrado\n",
    "\n",
    "Per testare gli algoritmi, generiamo un archivio sintetico di curve multivariate di degrado simulato. Ogni curva rappresenta un profilo di feature di degradazione nel tempo, con un'esplosione esponenziale verso la fine."
   ]
  },
  {
   "cell_type": "code",
   "execution_count": null,
   "id": "7",
   "metadata": {},
   "outputs": [],
   "source": [
    "import matplotlib.pyplot as plt\n",
    "import numpy as np\n",
    "from fastdtw import fastdtw\n",
    "\n",
    "\n",
    "def generate_archive(num_curves=100, min_length=100, max_length=1000, n_features=3):\n",
    "    archive = []\n",
    "    for _ in range(num_curves):\n",
    "        length = np.random.randint(min_length, max_length + 1)\n",
    "        features = simulate_curve(length=length, n_features=n_features)\n",
    "        archive.append(features)\n",
    "    return archive\n",
    "\n",
    "\n",
    "def plot_archive(archive):\n",
    "    n_features = archive[0].shape[1]\n",
    "\n",
    "    _, axs = plt.subplots(n_features, 1, figsize=(10, 3 * n_features), sharex=True)\n",
    "    if n_features == 1:\n",
    "        axs = [axs]\n",
    "\n",
    "    for i in range(n_features):\n",
    "        for curve in archive:\n",
    "            axs[i].plot(curve[:, i], alpha=0.7)\n",
    "        axs[i].set_title(f\"Feature {i + 1}\")\n",
    "        axs[i].set_ylabel(\"Value\")\n",
    "    axs[-1].set_xlabel(\"Time\")\n",
    "    plt.tight_layout()\n",
    "    plt.show()\n",
    "\n",
    "\n",
    "def simulate_curve(length=500, n_features=3, explosion_start_ratio=0.8):\n",
    "    t = np.linspace(0, 1, length)\n",
    "    explosion_start = explosion_start_ratio\n",
    "\n",
    "    features = []\n",
    "    for _ in range(n_features):\n",
    "        noise = 0.02 * np.random.randn(length)\n",
    "\n",
    "        explosion = np.exp(t - explosion_start)\n",
    "        explosion = explosion - explosion[int(explosion_start * length)]\n",
    "        explosion = np.clip(explosion, 0, None)\n",
    "\n",
    "        c, factor = np.random.uniform(0.1, 2), np.random.uniform(5, 15)\n",
    "        feature_curve = np.exp(c * t + factor * explosion) + noise\n",
    "        features.append(feature_curve)\n",
    "\n",
    "    features = np.vstack(features).T\n",
    "    return features\n",
    "\n",
    "\n",
    "np.random.seed(42)\n",
    "\n",
    "archive = generate_archive(100)\n",
    "plot_archive(archive)"
   ]
  },
  {
   "cell_type": "markdown",
   "id": "8",
   "metadata": {},
   "source": [
    "### Test della stima RUL basata su archivio\n",
    "\n",
    "Simuliamo una curva parziale corrente di lunghezza casuale e stimiamo la RUL usando la similarità con le curve dell'archivio."
   ]
  },
  {
   "cell_type": "code",
   "execution_count": null,
   "id": "9",
   "metadata": {},
   "outputs": [],
   "source": [
    "current_time = np.random.randint(200, 400)\n",
    "partial_curve = simulate_curve()[:][:current_time]"
   ]
  },
  {
   "cell_type": "code",
   "execution_count": null,
   "id": "10",
   "metadata": {},
   "outputs": [],
   "source": [
    "def estimate_rul_by_similarity(archive, partial_curve):\n",
    "    partial_len = len(partial_curve)\n",
    "    best_dist = np.inf\n",
    "    best_idx = -1\n",
    "    for idx, curve in enumerate(archive):\n",
    "        if len(curve) < partial_len:\n",
    "            continue\n",
    "        dist, _ = fastdtw(\n",
    "            partial_curve[:partial_len], curve[:partial_len], dist=euclidean_dist\n",
    "        )\n",
    "        if dist < best_dist:\n",
    "            best_dist = dist\n",
    "            best_idx = idx\n",
    "    estimated_rul = len(archive[best_idx]) - partial_len\n",
    "    return estimated_rul, archive[best_idx], best_idx\n",
    "\n",
    "\n",
    "def euclidean_dist(a, b):\n",
    "    return np.linalg.norm(a - b)\n",
    "\n",
    "\n",
    "estimated_rul, best_curve, best_idx = estimate_rul_by_similarity(archive, partial_curve)\n",
    "\n",
    "print(f\"Indice curva più simile: {best_idx}\")\n",
    "print(f\"RUL stimata al timestep {len(partial_curve)}: {estimated_rul:.2f}\")"
   ]
  },
  {
   "cell_type": "code",
   "execution_count": null,
   "id": "11",
   "metadata": {},
   "outputs": [],
   "source": [
    "n_features = partial_curve.shape[1]\n",
    "\n",
    "plt.figure(figsize=(12, 3 * n_features))\n",
    "for i in range(n_features):\n",
    "    plt.subplot(n_features, 1, i + 1)\n",
    "    plt.title(f\"Feature {i} - Curva corrente vs Curva più simile\")\n",
    "    plt.plot(partial_curve[:, i], \"-o\", label=\"Curva corrente\")\n",
    "    plt.plot(best_curve[:, i], label=\"Curva più simile\")\n",
    "    plt.legend()\n",
    "plt.tight_layout()\n",
    "plt.show()"
   ]
  },
  {
   "cell_type": "markdown",
   "id": "12",
   "metadata": {},
   "source": [
    "## Conclusioni\n",
    "\n",
    "In questo notebook abbiamo esplorato due approcci complementari per la stima della Remaining Useful Life (RUL):\n",
    "\n",
    "- Un metodo statistico preliminare basato su modelli parametrici (Weibull) utile quando non è ancora disponibile un archivio storico,\n",
    "- Un metodo basato su similarità temporale multivariata (DTW) applicato a un archivio di curve di degradazione raccolte nel tempo.\n",
    "\n",
    "Questo workflow permette di affrontare la manutenzione predittiva in maniera graduale e flessibile, passando da stime basate su dati teorici e specifiche di macchina, a stime basate su dati operativi effettivi.\n",
    "\n",
    "L’approccio proposto può essere ulteriormente arricchito integrando modelli di machine learning più avanzati, sensori aggiuntivi e meccanismi di aggiornamento continuo dei modelli di RUL man mano che i dati vengono acquisiti."
   ]
  }
 ],
 "metadata": {
  "kernelspec": {
   "display_name": ".venv",
   "language": "python",
   "name": "python3"
  },
  "language_info": {
   "codemirror_mode": {
    "name": "ipython",
    "version": 3
   },
   "file_extension": ".py",
   "mimetype": "text/x-python",
   "name": "python",
   "nbconvert_exporter": "python",
   "pygments_lexer": "ipython3",
   "version": "3.12.0"
  }
 },
 "nbformat": 4,
 "nbformat_minor": 5
}
