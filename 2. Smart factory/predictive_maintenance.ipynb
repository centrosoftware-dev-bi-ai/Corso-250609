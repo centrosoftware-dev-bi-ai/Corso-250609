{
 "cells": [
  {
   "cell_type": "code",
   "execution_count": null,
   "id": "0",
   "metadata": {},
   "outputs": [],
   "source": [
    "import matplotlib.pyplot as plt\n",
    "import numpy as np\n",
    "from fastdtw import fastdtw\n",
    "\n",
    "\n",
    "def generate_archive(num_curves=100, min_length=100, max_length=1000, n_features=3):\n",
    "    archive = []\n",
    "    for _ in range(num_curves):\n",
    "        length = np.random.randint(min_length, max_length + 1)\n",
    "        features = simulate_curve(length=length, n_features=n_features)\n",
    "        archive.append(features)\n",
    "    return archive\n",
    "\n",
    "\n",
    "def plot_archive(archive):\n",
    "    n_features = archive[0].shape[1]\n",
    "\n",
    "    _, axs = plt.subplots(n_features, 1, figsize=(10, 3 * n_features), sharex=True)\n",
    "    if n_features == 1:\n",
    "        axs = [axs]\n",
    "\n",
    "    for i in range(n_features):\n",
    "        for curve in archive:\n",
    "            axs[i].plot(curve[:, i], alpha=0.7)\n",
    "        axs[i].set_title(f\"Feature {i + 1}\")\n",
    "        axs[i].set_ylabel(\"Value\")\n",
    "    axs[-1].set_xlabel(\"Time\")\n",
    "    plt.tight_layout()\n",
    "    plt.show()\n",
    "\n",
    "\n",
    "def simulate_curve(length=500, n_features=3, explosion_start_ratio=0.8):\n",
    "    t = np.linspace(0, 1, length)\n",
    "    explosion_start = explosion_start_ratio\n",
    "\n",
    "    features = []\n",
    "    for _ in range(n_features):\n",
    "        noise = 0.02 * np.random.randn(length)\n",
    "\n",
    "        explosion = np.exp(t - explosion_start)\n",
    "        explosion = explosion - explosion[int(explosion_start * length)]\n",
    "        explosion = np.clip(explosion, 0, None)\n",
    "\n",
    "        c, factor = np.random.uniform(0.1, 2), np.random.uniform(5, 15)\n",
    "        feature_curve = np.exp(c * t + factor * explosion) + noise\n",
    "        features.append(feature_curve)\n",
    "\n",
    "    features = np.vstack(features).T\n",
    "    return features\n",
    "\n",
    "\n",
    "np.random.seed(42)"
   ]
  },
  {
   "cell_type": "code",
   "execution_count": null,
   "id": "1",
   "metadata": {},
   "outputs": [],
   "source": [
    "archive = generate_archive(100)\n",
    "plot_archive(archive)"
   ]
  },
  {
   "cell_type": "code",
   "execution_count": null,
   "id": "2",
   "metadata": {},
   "outputs": [],
   "source": [
    "current_time = np.random.randint(100, 200)\n",
    "partial_curve = simulate_curve()[:][:current_time]"
   ]
  },
  {
   "cell_type": "code",
   "execution_count": null,
   "id": "3",
   "metadata": {},
   "outputs": [],
   "source": [
    "def estimate_rul_by_similarity(archive, partial_curve):\n",
    "    partial_len = len(partial_curve)\n",
    "    best_dist = np.inf\n",
    "    best_idx = -1\n",
    "    for idx, curve in enumerate(archive):\n",
    "        if len(curve) < partial_len:\n",
    "            continue\n",
    "        dist, _ = fastdtw(\n",
    "            partial_curve[:partial_len], curve[:partial_len], dist=euclidean_dist\n",
    "        )\n",
    "        if dist < best_dist:\n",
    "            best_dist = dist\n",
    "            best_idx = idx\n",
    "    estimated_rul = len(archive[best_idx]) - partial_len\n",
    "    return estimated_rul, archive[best_idx], best_idx\n",
    "\n",
    "\n",
    "def euclidean_dist(a, b):\n",
    "    return np.linalg.norm(a - b)\n",
    "\n",
    "\n",
    "estimated_rul, best_curve, best_idx = estimate_rul_by_similarity(archive, partial_curve)\n",
    "\n",
    "print(f\"Indice curva più simile: {best_idx}\")\n",
    "print(f\"RUL stimata al timestep {len(partial_curve)}: {estimated_rul:.2f}\")"
   ]
  },
  {
   "cell_type": "code",
   "execution_count": null,
   "id": "4",
   "metadata": {},
   "outputs": [],
   "source": [
    "n_features = partial_curve.shape[1]\n",
    "\n",
    "plt.figure(figsize=(12, 3 * n_features))\n",
    "for i in range(n_features):\n",
    "    plt.subplot(n_features, 1, i + 1)\n",
    "    plt.title(f\"Feature {i} - Curva corrente vs Curva più simile\")\n",
    "    plt.plot(partial_curve[:, i], \"-o\", label=\"Curva corrente\")\n",
    "    plt.plot(best_curve[:, i], label=\"Curva più simile\")\n",
    "    plt.legend()\n",
    "plt.tight_layout()\n",
    "plt.show()"
   ]
  }
 ],
 "metadata": {
  "kernelspec": {
   "display_name": ".venv",
   "language": "python",
   "name": "python3"
  },
  "language_info": {
   "codemirror_mode": {
    "name": "ipython",
    "version": 3
   },
   "file_extension": ".py",
   "mimetype": "text/x-python",
   "name": "python",
   "nbconvert_exporter": "python",
   "pygments_lexer": "ipython3",
   "version": "3.12.0"
  }
 },
 "nbformat": 4,
 "nbformat_minor": 5
}
