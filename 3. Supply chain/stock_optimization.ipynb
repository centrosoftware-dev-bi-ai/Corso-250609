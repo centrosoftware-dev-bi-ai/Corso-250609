{
 "cells": [
  {
   "cell_type": "markdown",
   "id": "0",
   "metadata": {},
   "source": [
    "# Prevenzione della Rottura di Stock con Service Level nella Supply Chain\n",
    "\n",
    "In questo notebook presentiamo una strategia per prevenire la rottura di stock (stock-out) basata su:\n",
    "- la previsione del consumo giornaliero\n",
    "- la conoscenza del lead time del fornitore\n",
    "- l’introduzione di un livello di servizio (service level) per gestire l’incertezza\n",
    "\n",
    "Utilizzeremo dati simulati per mostrare come funziona il nostro algoritmo predittivo.\n"
   ]
  },
  {
   "cell_type": "code",
   "execution_count": null,
   "id": "1",
   "metadata": {},
   "outputs": [],
   "source": [
    "import matplotlib.pyplot as plt\n",
    "import numpy as np\n",
    "import pandas as pd\n",
    "from scipy.stats import norm"
   ]
  },
  {
   "cell_type": "markdown",
   "id": "2",
   "metadata": {},
   "source": [
    "## Parametri\n",
    "\n",
    "Impostiamo:\n",
    "- stock iniziale\n",
    "- previsioni giornaliere\n",
    "- lead time\n",
    "- livello di servizio desiderato\n"
   ]
  },
  {
   "cell_type": "code",
   "execution_count": null,
   "id": "3",
   "metadata": {},
   "outputs": [],
   "source": [
    "np.random.seed(42)\n",
    "\n",
    "giorni = 60\n",
    "stock_iniziale = 200\n",
    "lead_time = 2\n",
    "\n",
    "service_level = 0.95\n",
    "z = norm.ppf(service_level)\n",
    "\n",
    "vendite_giornaliere = np.random.poisson(5, size=giorni)\n",
    "date = pd.date_range(start=\"2025-01-01\", periods=giorni)\n",
    "df = pd.DataFrame({\"data\": date, \"vendita_prevista\": vendite_giornaliere})"
   ]
  },
  {
   "cell_type": "markdown",
   "id": "4",
   "metadata": {},
   "source": [
    "## Simulazione del consumo\n",
    "\n",
    "Simuliamo l’evoluzione dello stock nel tempo a partire dallo stock iniziale."
   ]
  },
  {
   "cell_type": "code",
   "execution_count": null,
   "id": "5",
   "metadata": {},
   "outputs": [],
   "source": [
    "df[\"stock\"] = stock_iniziale - df[\"vendita_prevista\"].cumsum()"
   ]
  },
  {
   "cell_type": "markdown",
   "id": "6",
   "metadata": {},
   "source": [
    "## Scorta di Sicurezza (Safety Stock)\n",
    "\n",
    "Calcoliamo la scorta di sicurezza come:\n",
    "\\[\n",
    "\\text{safety\\_stock} = z \\cdot \\sigma_{\\text{domanda}}\n",
    "\\]\n",
    "dove:\n",
    "- \\( z \\) è il quantile della normale standard (es. 1.645 per 95%)\n",
    "- \\( \\sigma \\) è la deviazione standard della domanda durante il lead time"
   ]
  },
  {
   "cell_type": "code",
   "execution_count": null,
   "id": "7",
   "metadata": {},
   "outputs": [],
   "source": [
    "domanda_lead_time = vendite_giornaliere[:lead_time]\n",
    "std_domanda = np.std(domanda_lead_time)\n",
    "media_domanda = int(np.mean(domanda_lead_time))\n",
    "safety_stock = int(z * std_domanda)\n",
    "\n",
    "livello_riordino = media_domanda + safety_stock"
   ]
  },
  {
   "cell_type": "markdown",
   "id": "8",
   "metadata": {},
   "source": [
    "## Identificazione del giorno di ordine\n",
    "\n",
    "Troviamo il primo giorno in cui lo stock previsto scende sotto il livello di riordino."
   ]
  },
  {
   "cell_type": "code",
   "execution_count": null,
   "id": "9",
   "metadata": {},
   "outputs": [],
   "source": [
    "df[\"trigger_ordine\"] = df[\"stock\"] <= livello_riordino\n",
    "idx_trigger = df[df[\"trigger_ordine\"]].index.min()\n",
    "data_ordine = df.loc[idx_trigger, \"data\"] if idx_trigger is not None else None"
   ]
  },
  {
   "cell_type": "markdown",
   "id": "10",
   "metadata": {},
   "source": [
    "## Simulazione \"What-if\" con ordine effettuato\n",
    "\n",
    "Supponiamo di effettuare l’ordine nella data suggerita e che arrivi dopo `lead_time` giorni con una quantità fissa."
   ]
  },
  {
   "cell_type": "code",
   "execution_count": null,
   "id": "11",
   "metadata": {},
   "outputs": [],
   "source": [
    "qta_ordine = stock_iniziale\n",
    "df[\"stock_whatif\"] = stock_iniziale\n",
    "ordine_evaso = False\n",
    "\n",
    "for i in range(1, len(df)):\n",
    "    df.loc[i, \"stock_whatif\"] = (\n",
    "        df.loc[i - 1, \"stock_whatif\"] - df.loc[i, \"vendita_prevista\"]\n",
    "    )\n",
    "\n",
    "    data_corrente = df.loc[i, \"data\"]\n",
    "    data_arrivo = data_ordine + pd.Timedelta(days=lead_time) if data_ordine else None\n",
    "\n",
    "    if not ordine_evaso and data_arrivo and data_corrente >= data_arrivo:\n",
    "        df.loc[i, \"stock_whatif\"] += qta_ordine\n",
    "        ordine_evaso = True"
   ]
  },
  {
   "cell_type": "markdown",
   "id": "12",
   "metadata": {},
   "source": [
    "## Visualizzazione\n",
    "\n",
    "Grafichiamo:\n",
    "- l’evoluzione dello stock senza intervento\n",
    "- il livello di riordino\n",
    "- la data d’ordine\n",
    "- l’effetto dell’ordine (scenario what-if)"
   ]
  },
  {
   "cell_type": "code",
   "execution_count": null,
   "id": "13",
   "metadata": {},
   "outputs": [],
   "source": [
    "plt.figure(figsize=(12, 6))\n",
    "plt.plot(df[\"data\"], df[\"stock\"], label=\"Stock senza ordine\")\n",
    "plt.plot(df[\"data\"], df[\"stock_whatif\"], label=\"Stock con ordine\", linestyle=\"--\")\n",
    "plt.axhline(\n",
    "    livello_riordino, color=\"orange\", linestyle=\"--\", label=\"Livello di Riordino\"\n",
    ")\n",
    "\n",
    "if data_ordine:\n",
    "    plt.axvline(data_ordine, color=\"green\", linestyle=\"--\", label=\"Data Ordine\")\n",
    "    plt.axvline(\n",
    "        data_ordine + pd.Timedelta(days=lead_time),\n",
    "        color=\"blue\",\n",
    "        linestyle=\":\",\n",
    "        label=\"Arrivo Ordine\",\n",
    "    )\n",
    "\n",
    "plt.xlabel(\"Data\")\n",
    "plt.ylabel(\"Stock\")\n",
    "plt.title(\"Andamento dello Stock con Strategia di Riordino e Livello di Servizio\")\n",
    "plt.legend()\n",
    "# plt.grid(True)\n",
    "plt.tight_layout()\n",
    "plt.show()"
   ]
  },
  {
   "cell_type": "markdown",
   "id": "14",
   "metadata": {},
   "source": [
    "## Conclusioni\n",
    "\n",
    "L’introduzione del livello di servizio consente di tenere conto dell’incertezza nella domanda.\n",
    "\n",
    "➡️ La scorta di sicurezza riduce il rischio di rottura di stock  \n",
    "➡️ La data d’ordine viene anticipata per garantire una disponibilità sufficiente\n",
    "\n",
    "Questo tipo di logica può essere esteso facilmente a:\n",
    "- prodotti multipli\n",
    "- variabilità nel lead time\n",
    "- simulazioni Monte Carlo per validazione"
   ]
  }
 ],
 "metadata": {
  "kernelspec": {
   "display_name": ".venv",
   "language": "python",
   "name": "python3"
  },
  "language_info": {
   "codemirror_mode": {
    "name": "ipython",
    "version": 3
   },
   "file_extension": ".py",
   "mimetype": "text/x-python",
   "name": "python",
   "nbconvert_exporter": "python",
   "pygments_lexer": "ipython3",
   "version": "3.12.0"
  }
 },
 "nbformat": 4,
 "nbformat_minor": 5
}
